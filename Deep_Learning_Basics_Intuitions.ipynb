{
 "cells": [
  {
   "cell_type": "markdown",
   "metadata": {},
   "source": [
    "# Deep Learning Basics Intuitions\n",
    "\n"
   ]
  },
  {
   "cell_type": "markdown",
   "metadata": {},
   "source": [
    "**WARNING** Concepts are simplified greatly here to give intuitions. This is not a complete guide! "
   ]
  },
  {
   "cell_type": "markdown",
   "metadata": {},
   "source": [
    "## 1. Data - NDArray"
   ]
  },
  {
   "cell_type": "markdown",
   "metadata": {},
   "source": [
    "* Everything in Deep Learning is **N Dimensional Array (NDArray)** !!\n",
    "* A gray scale image is just a 2 Dimensional Array (Matrix)"
   ]
  },
  {
   "cell_type": "markdown",
   "metadata": {},
   "source": [
    "### How do you see the image and how a Neural Network see?"
   ]
  },
  {
   "cell_type": "markdown",
   "metadata": {},
   "source": [
    "![image.png](../assets/dl_basics/image_is_array.gif)"
   ]
  },
  {
   "cell_type": "markdown",
   "metadata": {},
   "source": [
    "## 2. Feed Forward Neural Network"
   ]
  },
  {
   "cell_type": "markdown",
   "metadata": {},
   "source": [
    "**Concepts**\n",
    "1. **Layers**: Input Layer, Hidden Layer, Output Layer and more.\n",
    "2. **Dense Layers**: Fully (Densely) Connected  to adjacent layers.\n",
    "3. Everything is **dot product** of N Dimensional Arrays (NDArray)."
   ]
  },
  {
   "cell_type": "markdown",
   "metadata": {},
   "source": [
    "![image.png](../assets/dl_basics/feed_forward_network.gif)"
   ]
  },
  {
   "cell_type": "markdown",
   "metadata": {},
   "source": [
    "* 28 X 28 image is flattened to 784 pixels Array.\n",
    "* 784 X 784 is number of parameters (weights) in first hidden layer. 614,656 !!!\n",
    "* Number of parameters to learn is huge !!\n",
    "* Observe we are not capturing spatial information (a small area of image give more info together than individual pixels) "
   ]
  },
  {
   "cell_type": "markdown",
   "metadata": {},
   "source": [
    "![image.png](../assets/dl_basics/mnist_flatten.png)"
   ]
  },
  {
   "cell_type": "markdown",
   "metadata": {},
   "source": [
    "# 3. Convolutional Neural Network"
   ]
  },
  {
   "cell_type": "markdown",
   "metadata": {},
   "source": [
    "**Concepts**\n",
    "1. Input image is an NDArray\n",
    "2. Filter (**Kernel**): Another smaller NDArray. Moved across the image. Multiply elementwise and take the sum.\n",
    "3. Feature Map: Output of moving a Kernel across the image.\n",
    "4. **Kernel is learnt**: Network changes the values for the Kernel and see what works best. This is called training (learning)"
   ]
  },
  {
   "cell_type": "markdown",
   "metadata": {},
   "source": [
    "### 5 X 5 Input Image and 2 X 2 Kernel"
   ]
  },
  {
   "cell_type": "markdown",
   "metadata": {},
   "source": [
    "![image.png](../assets/dl_basics/kernel_convolution.png)"
   ]
  },
  {
   "cell_type": "markdown",
   "metadata": {},
   "source": [
    "### Convolve the Kernel (Filter) on the Input Image"
   ]
  },
  {
   "cell_type": "markdown",
   "metadata": {},
   "source": [
    "![image.png](../assets/dl_basics/kernel_convolution_2.gif)"
   ]
  },
  {
   "cell_type": "markdown",
   "metadata": {},
   "source": [
    "**NOTES**\n",
    "1. Observe spatial information being captured. You are seeing a piece of image together at once.\n",
    "2. You can have many such Kernel (filters). Each filter capturing one type of feature (Edges, Curves, a Color etc...)\n",
    "3. You can *pad* images, make more than one step jump *Strides* and more."
   ]
  },
  {
   "cell_type": "markdown",
   "metadata": {},
   "source": [
    "## 3.1 Max Pooling"
   ]
  },
  {
   "cell_type": "markdown",
   "metadata": {},
   "source": [
    "* More the parameters, more time to learn, more complex it is.\n",
    "* Take a representative from a group i.e., **pool the candidates and take a representative**\n",
    "* Types: Max Pooling, Avg Pooling, Min Pooling etc.\n",
    "* Max Pooling is commonly used technique."
   ]
  },
  {
   "cell_type": "markdown",
   "metadata": {},
   "source": [
    "![image.png](../assets/dl_basics/pooling.gif)"
   ]
  },
  {
   "cell_type": "markdown",
   "metadata": {},
   "source": [
    "## 3.2 Dropout"
   ]
  },
  {
   "cell_type": "markdown",
   "metadata": {},
   "source": [
    "**Concepts**\n",
    "1. If a network identifies one **golden sword (weights)** that works for majority of cases, it will not change it!\n",
    "2. You force network to drop certain weights randomly with a probability. So, there is no golden sword, but, there will be **generalization**. \n",
    "3. Network now learns *on an average what works best* than for specific examples.\n"
   ]
  },
  {
   "cell_type": "markdown",
   "metadata": {},
   "source": [
    "<tr>\n",
    "    <td> <img src=\"../assets/dl_basics/dog1.jpeg\" alt=\"Drawing\" style=\"width: 250px;\"/> </td>\n",
    "    <td> <img src=\"../assets/dl_basics/dog2.jpeg\" alt=\"Drawing\" style=\"width: 250px;\"/> </td>\n",
    "    <td> <img src=\"../assets/dl_basics/dog3.jpeg\" alt=\"Drawing\" style=\"width: 250px;\"/> </td>\n",
    "</tr>"
   ]
  },
  {
   "cell_type": "markdown",
   "metadata": {},
   "source": [
    "<tr>\n",
    "    <td> <img src=\"../assets/dl_basics/cat1.jpeg\" alt=\"Drawing\" style=\"width: 250px;\"/> </td>\n",
    "    <td> <img src=\"../assets/dl_basics/cat2.jpeg\" alt=\"Drawing\" style=\"width: 250px;\"/> </td>\n",
    "    <td> <img src=\"../assets/dl_basics/cat3.jpeg\" alt=\"Drawing\" style=\"width: 250px;\"/> </td>\n",
    "</tr>"
   ]
  },
  {
   "cell_type": "markdown",
   "metadata": {},
   "source": [
    "**Intution**\n",
    "\n",
    "* Network learns if there is **Grass**, classify it as **Dog**\n",
    "* Network learns if there is **couch**, classify it as **Cat**\n",
    "\n",
    "**Do not generalize well**"
   ]
  },
  {
   "cell_type": "markdown",
   "metadata": {},
   "source": [
    "![image.png](../assets/dl_basics/dropout.gif)"
   ]
  },
  {
   "cell_type": "markdown",
   "metadata": {},
   "source": [
    "# 4. Weights"
   ]
  },
  {
   "cell_type": "markdown",
   "metadata": {},
   "source": [
    "* Value of each Neuron in the hidden layers."
   ]
  },
  {
   "cell_type": "markdown",
   "metadata": {},
   "source": [
    "![image.png](../assets/dl_basics/model_weights.png)"
   ]
  },
  {
   "cell_type": "markdown",
   "metadata": {},
   "source": [
    "## 5. Model Training"
   ]
  },
  {
   "cell_type": "markdown",
   "metadata": {},
   "source": [
    "**Concepts**\n",
    "1. **Loss (Error)**: How close is network *Predicted value* compared to *Actual value*?\n",
    "2. **Trainer / Optimizer**: I know I made a mistake, I have calculated *loss*, how do I change the weights in the networks so that I reduce (optimize) the loss (error). \n",
    "3. **Backpropagation and Weight updates**: Send back the error (loss) from output layer to input layer, informing each layers (neurons) in between how erroneous the output was and ask them to update relatively."
   ]
  },
  {
   "cell_type": "markdown",
   "metadata": {},
   "source": [
    "![image.png](../assets/dl_basics/learn.gif)"
   ]
  },
  {
   "cell_type": "markdown",
   "metadata": {},
   "source": [
    "![image.png](../assets/dl_basics/backprop.gif)"
   ]
  },
  {
   "cell_type": "markdown",
   "metadata": {},
   "source": [
    "## 7. Model"
   ]
  },
  {
   "cell_type": "markdown",
   "metadata": {},
   "source": [
    "Model is nothing but **a snapshot of the neural network** after the training:\n",
    "1. **Network structure** - Layers and how they are connected to each other.\n",
    "2. **Weights** - Weights in each layer (trained/learnt)."
   ]
  },
  {
   "cell_type": "markdown",
   "metadata": {},
   "source": [
    "# 8. Inference"
   ]
  },
  {
   "cell_type": "markdown",
   "metadata": {},
   "source": [
    "* Just pass the input through the snapshot of the network and give back the output as **Prediction**."
   ]
  },
  {
   "cell_type": "markdown",
   "metadata": {},
   "source": [
    "![image.png](../assets/dl_basics/feed_forward_network.gif)"
   ]
  },
  {
   "cell_type": "markdown",
   "metadata": {},
   "source": [
    "# References\n",
    "\n",
    "* https://gluon-crash-course.mxnet.io/autograd.html\n",
    "* http://deeplearning.net/software/theano/tutorial/conv_arithmetic.html\n",
    "* https://analyticsindiamag.com/most-common-activation-functions-in-neural-networks-and-rationale-behind-it/\n",
    "* https://chatbotslife.com/regularization-in-deep-learning-f649a45d6e0\n",
    "* https://stevenmiller888.github.io/mind-how-to-build-a-neural-network/\n",
    "* http://jalammar.github.io/visual-interactive-guide-basics-neural-networks/\n",
    "* https://iamwilchung.wordpress.com/category/neural-networks/\n",
    "* https://achintavarna.wordpress.com/2017/11/17/keras-tutorial-for-beginners-a-simple-neural-network-to-identify-numbers-mnist-data/"
   ]
  }
 ],
 "metadata": {
  "kernelspec": {
   "display_name": "Python 3",
   "language": "python",
   "name": "python3"
  },
  "language_info": {
   "codemirror_mode": {
    "name": "ipython",
    "version": 3
   },
   "file_extension": ".py",
   "mimetype": "text/x-python",
   "name": "python",
   "nbconvert_exporter": "python",
   "pygments_lexer": "ipython3",
   "version": "3.8.2"
  }
 },
 "nbformat": 4,
 "nbformat_minor": 2
}
